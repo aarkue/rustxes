{
 "cells": [
  {
   "cell_type": "code",
   "execution_count": null,
   "metadata": {},
   "outputs": [],
   "source": [
    "import rustxes\n",
    "\n",
    "[xes,log_attrs] = rustxes.import_xes(\"/home/aarkue/dow/xes/Sepsis Cases - Event Log.xes.gz\")\n",
    "print(xes.shape)"
   ]
  },
  {
   "cell_type": "code",
   "execution_count": null,
   "metadata": {},
   "outputs": [],
   "source": [
    "# Test round-trip (Import (see above) -> Export -> Import)\n",
    "path = \"/home/aarkue/dow/test-export.xes\"\n",
    "rustxes.export_xes(xes,path)\n",
    "[xes2,_] = rustxes.import_xes(path);\n",
    "\n",
    "from polars.testing import assert_frame_equal\n",
    "assert_frame_equal(xes,xes2,check_column_order=False,check_row_order=True)"
   ]
  },
  {
   "cell_type": "code",
   "execution_count": null,
   "metadata": {},
   "outputs": [],
   "source": [
    "import rustxes\n",
    "\n",
    "ocel = rustxes.import_ocel_xml(\"/home/aarkue/dow/ocel/ContainerLogistics.xml\")\n",
    "print(ocel['objects'].shape)"
   ]
  }
 ],
 "metadata": {
  "kernelspec": {
   "display_name": ".venv",
   "language": "python",
   "name": "python3"
  },
  "language_info": {
   "codemirror_mode": {
    "name": "ipython",
    "version": 3
   },
   "file_extension": ".py",
   "mimetype": "text/x-python",
   "name": "python",
   "nbconvert_exporter": "python",
   "pygments_lexer": "ipython3",
   "version": "3.13.1"
  },
  "orig_nbformat": 4
 },
 "nbformat": 4,
 "nbformat_minor": 2
}
