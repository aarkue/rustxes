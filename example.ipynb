{
 "cells": [
  {
   "cell_type": "code",
   "execution_count": null,
   "metadata": {},
   "outputs": [],
   "source": [
    "import rustxes\n",
    "import json\n",
    "\n",
    "xes_path = \"../../pm4py-core/tests/input_data/roadtraffic100traces.xes\"\n",
    "\n",
    "# log: polars DataFrame containing event data (i.e., event and trace attributes)\n",
    "# other_data_str: JSON-encoded other Log data (like log-level attributes or extensions)\n",
    "(log,other_data_str) = rustxes.import_xes(xes_path,None,None)\n",
    "other_data = json.loads(other_data_str)\n",
    "\n",
    "log"
   ]
  },
  {
   "cell_type": "code",
   "execution_count": null,
   "metadata": {},
   "outputs": [],
   "source": [
    "import pandas as pd\n",
    "from pandas import DataFrame\n",
    "\n",
    "# Rough comparison checks of two DataFrames\n",
    "# Ignores certain differences (e.g., different datatypes) on purpose\n",
    "def compare_log_dfs(df1: DataFrame,df2: DataFrame):\n",
    "  col_diff =  set(df1.columns).symmetric_difference(set(df2.columns));\n",
    "  if len(col_diff) > 0:\n",
    "      print(f\"❌ Column are different: {col_diff}\")\n",
    "      return False\n",
    "\n",
    "  all_columns = set(df1.columns).union(set(df2.columns))\n",
    "  all_equal = True\n",
    "  for col in all_columns:\n",
    "    # or all(...) to handle some weird datatype stuff; if all values are equal, we also consider the column as equal\n",
    "    if  df1[col].equals(df2[col]) or all([v1 == v2 or (pd.isnull(v1) and pd.isnull(v2)) or str(v1) == str(v2) for (v1,v2) in zip(df1[col],df2[col])]):\n",
    "      pass\n",
    "    else:\n",
    "      all_equal = False\n",
    "      print(f\"❌ For column {col} not all entries are equal!\")\n",
    "  if all_equal:\n",
    "    print(f\"✅✅✅ All values in all column are equal!\")\n",
    "    return True\n",
    "  else:\n",
    "    print(f\"❌❌❌ NOT all values in all column are equal!\")\n",
    "    return False"
   ]
  },
  {
   "cell_type": "code",
   "execution_count": null,
   "metadata": {},
   "outputs": [],
   "source": [
    "log_import_res = dict()"
   ]
  },
  {
   "cell_type": "code",
   "execution_count": null,
   "metadata": {},
   "outputs": [],
   "source": [
    "import time\n",
    "import pm4py\n",
    "import numpy as np\n",
    "import glob\n",
    "import pandas as pd\n",
    "\n",
    "for log_name in glob.glob(\"../../pm4py-core/tests/input_data/*.xes\"):\n",
    "  print(log_name)\n",
    "  log_name_postfix = log_name.split(\"/\")[-1]\n",
    "\n",
    "  # Measure execution times\n",
    "  start = time.time()\n",
    "  (log_rs,other_data_str) = rustxes.import_xes(log_name)\n",
    "  log_rs = log_rs.to_pandas() if log_rs.shape != (0,0) else pd.DataFrame()\n",
    "  log_rs = log_rs.fillna(np.nan)\n",
    "  rs_dur = time.time() - start\n",
    "  start = time.time()\n",
    "  log_py_lbl = pm4py.read_xes(log_name,variant=\"line_by_line\")\n",
    "  py_lbl_dur = time.time() - start\n",
    "  start = time.time()\n",
    "  try:\n",
    "    log_py_iter = pm4py.read_xes(log_name,variant=\"iterparse\")\n",
    "  except Exception as e:\n",
    "    print(e)\n",
    "  py_iter_dur = time.time() - start\n",
    "\n",
    "  # Print & save execution times in log_import_res for plotting\n",
    "  print(rs_dur,py_lbl_dur,py_iter_dur)\n",
    "  log_import_res[log_name_postfix] = {\"Rust\": rs_dur, \"PM4Py (line_by_line)\": py_lbl_dur, \"PM4Py (iterparse)\": py_iter_dur }\n",
    "  # Check if DataFrames are _roughtly_ equal\n",
    "  if not compare_log_dfs(log_rs,log_py_iter):\n",
    "    print(\"WARNING: Logs do not match for \" + log_name)"
   ]
  },
  {
   "cell_type": "code",
   "execution_count": null,
   "metadata": {},
   "outputs": [],
   "source": [
    "import pandas as pd\n",
    "df = pd.DataFrame(log_import_res)\n",
    "import plotly.express as px\n",
    "fig = px.bar(df.transpose(), barmode=\"group\", labels={\"index\": \"Event Log\", \"value\": \"Parse Duration [s]\", \"variable\": \"Parsing Implementation\"})\n",
    "fig.show()\n",
    "for log_name in log_import_res: \n",
    "  x = [ \"Rust\", \"PM4Py (line_by_line)\",\"PM4Py (iterparse)\"]\n",
    "  fig = px.bar(labels={\"x\": \"XES Parser\", \"y\": \"Parse Duration [s]\"}, title=f\"XES Parsing Performance on <i>{log_name}</i>\",x=x, y=[log_import_res[log_name][n] for n in x],color=x)\n",
    "  fig.show()"
   ]
  }
 ],
 "metadata": {
  "kernelspec": {
   "display_name": "venv",
   "language": "python",
   "name": "python3"
  },
  "language_info": {
   "codemirror_mode": {
    "name": "ipython",
    "version": 3
   },
   "file_extension": ".py",
   "mimetype": "text/x-python",
   "name": "python",
   "nbconvert_exporter": "python",
   "pygments_lexer": "ipython3",
   "version": "3.11.5"
  },
  "orig_nbformat": 4
 },
 "nbformat": 4,
 "nbformat_minor": 2
}
